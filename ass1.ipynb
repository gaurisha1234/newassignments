{
 "cells": [
  {
   "cell_type": "code",
   "execution_count": 1,
   "id": "59e326ce-76bb-48fa-8d46-d92dd1b472ef",
   "metadata": {},
   "outputs": [
    {
     "data": {
      "text/plain": [
       "'\\npython support 2 types of programming\\na. oops\\nb. proceducral\\n'"
      ]
     },
     "execution_count": 1,
     "metadata": {},
     "output_type": "execute_result"
    }
   ],
   "source": [
    "#q1\n",
    "\"\"\"\n",
    "devloped by guido van rosum\"\"\"\n",
    "#q2\n",
    "\"\"\"\n",
    "python support 2 types of programming\n",
    "a. oops\n",
    "b. proceducral\n",
    "\"\"\""
   ]
  },
  {
   "cell_type": "code",
   "execution_count": 2,
   "id": "c32ec9fb-ec9e-4cfa-9143-e620edfd082a",
   "metadata": {},
   "outputs": [
    {
     "data": {
      "text/plain": [
       "'\\nyes python is a case sensitive lanuage\\n'"
      ]
     },
     "execution_count": 2,
     "metadata": {},
     "output_type": "execute_result"
    }
   ],
   "source": [
    "#q3\n",
    "\"\"\"\n",
    "yes python is a case sensitive lanuage\n",
    "\"\"\""
   ]
  },
  {
   "cell_type": "code",
   "execution_count": 3,
   "id": "5de0b607-1df7-41ed-9de4-382189428645",
   "metadata": {},
   "outputs": [
    {
     "data": {
      "text/plain": [
       "'\\nimport sys\\n\\n# Get the version of Python\\npython_version = sys.version\\n\\nprint(\"The current version of Python is: \",python_version)\\n'"
      ]
     },
     "execution_count": 3,
     "metadata": {},
     "output_type": "execute_result"
    }
   ],
   "source": [
    "#q4\n",
    "\"\"\".py\"\"\"\n",
    "#q5\n",
    "\"\"\"\n",
    "python is an interepreted language \"\"\"\n",
    "#q7\n",
    "\"\"\"\n",
    "single line comment is defined by the '#'\n",
    "\"\"\"\n",
    "#q8\n",
    "\"\"\"\n",
    "import sys\n",
    "\n",
    "# Get the version of Python\n",
    "python_version = sys.version\n",
    "\n",
    "print(\"The current version of Python is: \",python_version)\n",
    "\"\"\"\n",
    "\n",
    "\n"
   ]
  },
  {
   "cell_type": "code",
   "execution_count": 4,
   "id": "fd2a9c12-8df4-4abd-b6f9-3bec4394f66c",
   "metadata": {},
   "outputs": [
    {
     "data": {
      "text/plain": [
       "'\\nlen\\nsqrt\\nceil\\nrandom\\n'"
      ]
     },
     "execution_count": 4,
     "metadata": {},
     "output_type": "execute_result"
    }
   ],
   "source": [
    "#q10\n",
    "\"\"\"\n",
    "pip stands for python install packages\n",
    "\"\"\"\n",
    "#q11\n",
    "\"\"\"\n",
    "len\n",
    "sqrt\n",
    "ceil\n",
    "random\n",
    "\"\"\"\n"
   ]
  },
  {
   "cell_type": "code",
   "execution_count": null,
   "id": "34680c16-ba25-4d1a-b80b-e06ebc2e542f",
   "metadata": {},
   "outputs": [],
   "source": [
    "#q12\n",
    "\"\"\"\n",
    "79 charcters\n",
    "\"\"\""
   ]
  },
  {
   "cell_type": "code",
   "execution_count": null,
   "id": "ffe342b1-c16d-4369-bff8-bab6ede8244d",
   "metadata": {},
   "outputs": [],
   "source": [
    "#q13\n",
    "\"\"\"\n",
    "easy to use\n",
    "scripting language\n",
    "dynamic memory allocation\n",
    "large libaries\n",
    "data science and ml\n",
    "\"\"\"\n",
    "#q16\n",
    "\"\"\"\n",
    "indentation is use to specify the block of code likewise other language it does not use {}\n",
    "it uses indentation for the block of code\n",
    "\"\"\"\n"
   ]
  }
 ],
 "metadata": {
  "kernelspec": {
   "display_name": "Python 3 (ipykernel)",
   "language": "python",
   "name": "python3"
  },
  "language_info": {
   "codemirror_mode": {
    "name": "ipython",
    "version": 3
   },
   "file_extension": ".py",
   "mimetype": "text/x-python",
   "name": "python",
   "nbconvert_exporter": "python",
   "pygments_lexer": "ipython3",
   "version": "3.10.8"
  }
 },
 "nbformat": 4,
 "nbformat_minor": 5
}
