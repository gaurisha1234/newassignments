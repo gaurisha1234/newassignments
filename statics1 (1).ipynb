{
 "cells": [
  {
   "cell_type": "code",
   "execution_count": 1,
   "id": "1a69d9cf-464c-4919-be8e-0696c39d6c26",
   "metadata": {},
   "outputs": [
    {
     "data": {
      "text/plain": [
       "'\\nstatics is defined as squence of collecting, organsing,analysing data and also to make predictions based on that '"
      ]
     },
     "execution_count": 1,
     "metadata": {},
     "output_type": "execute_result"
    }
   ],
   "source": [
    "#Q1\n",
    "\"\"\"\n",
    "statics is defined as squence of collecting, organsing,analysing data and also to make predictions based on that \"\"\""
   ]
  },
  {
   "cell_type": "code",
   "execution_count": 2,
   "id": "52f1713f-d4cc-45d0-a619-929661c03988",
   "metadata": {},
   "outputs": [
    {
     "data": {
      "text/plain": [
       "'\\ndiffrent type of statsics are :\\n1. descrptive : consists of organsing  and summarsing data eg   :  marks obtain by students \\n2. infrential : when from a sample of data we predict for the whole population eg: while doing survey we found that 20% like red we assume it favorite\\ncolor'"
      ]
     },
     "execution_count": 2,
     "metadata": {},
     "output_type": "execute_result"
    }
   ],
   "source": [
    "#q2\n",
    "\"\"\"\n",
    "diffrent type of statsics are :\n",
    "1. descrptive : consists of organsing  and summarsing data eg   :  marks obtain by students \n",
    "2. infrential : when from a sample of data we predict for the whole population eg: while doing survey we found that 20% like red we assume it favorite\n",
    "color\"\"\""
   ]
  },
  {
   "cell_type": "code",
   "execution_count": null,
   "id": "490bff66-ced9-495b-969c-4115adf66a8d",
   "metadata": {},
   "outputs": [],
   "source": []
  }
 ],
 "metadata": {
  "kernelspec": {
   "display_name": "Python 3 (ipykernel)",
   "language": "python",
   "name": "python3"
  },
  "language_info": {
   "codemirror_mode": {
    "name": "ipython",
    "version": 3
   },
   "file_extension": ".py",
   "mimetype": "text/x-python",
   "name": "python",
   "nbconvert_exporter": "python",
   "pygments_lexer": "ipython3",
   "version": "3.10.8"
  }
 },
 "nbformat": 4,
 "nbformat_minor": 5
}
