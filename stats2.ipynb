{
 "cells": [
  {
   "cell_type": "code",
   "execution_count": 1,
   "id": "f7b17f25-6a5c-4172-b2a6-8eb9422ad302",
   "metadata": {},
   "outputs": [
    {
     "data": {
      "text/plain": [
       "'\\n3 measures of central tendency are:\\nmean\\nmedian\\nmode'"
      ]
     },
     "execution_count": 1,
     "metadata": {},
     "output_type": "execute_result"
    }
   ],
   "source": [
    "#q1\n",
    "\"\"\"\n",
    "3 measures of central tendency are:\n",
    "mean\n",
    "median\n",
    "mode\"\"\""
   ]
  },
  {
   "cell_type": "code",
   "execution_count": 2,
   "id": "e13bc77f-7201-40c5-a288-e2dbb199d6a6",
   "metadata": {},
   "outputs": [
    {
     "data": {
      "text/plain": [
       "'\\nMean = (172.5 + 175 + 175 + 176 + 176 + 176.2 + 176.5 + 177 + 177 + 178 + 178 + 178 + 178.2 + 178.9 + 179 + 180) / 16\\n\\nMean = 2827.3 / 16\\n\\nMean = 176.70625 \\nmedian\\n\\n[172.5, 175, 175, 176, 176, 176.2, 176.5, 177, 177, 178, 178, 178, 178.2, 178.9, 179, 180]\\nMedian = (176.2 + 176.5) / 2\\n\\nMedian = 352.7 / 2\\n\\nMedian = 176.35 \\nmode:\\n178\\n'"
      ]
     },
     "execution_count": 2,
     "metadata": {},
     "output_type": "execute_result"
    }
   ],
   "source": [
    "#q3\n",
    "\"\"\"\n",
    "Mean = (172.5 + 175 + 175 + 176 + 176 + 176.2 + 176.5 + 177 + 177 + 178 + 178 + 178 + 178.2 + 178.9 + 179 + 180) / 16\n",
    "\n",
    "Mean = 2827.3 / 16\n",
    "\n",
    "Mean = 176.70625 \n",
    "median\n",
    "\n",
    "[172.5, 175, 175, 176, 176, 176.2, 176.5, 177, 177, 178, 178, 178, 178.2, 178.9, 179, 180]\n",
    "Median = (176.2 + 176.5) / 2\n",
    "\n",
    "Median = 352.7 / 2\n",
    "\n",
    "Median = 176.35 \n",
    "mode:\n",
    "178\n",
    "\"\"\""
   ]
  },
  {
   "cell_type": "code",
   "execution_count": 3,
   "id": "daf76875-b379-48a8-83b0-b9924e32c44d",
   "metadata": {},
   "outputs": [
    {
     "ename": "NameError",
     "evalue": "name 'std' is not defined",
     "output_type": "error",
     "traceback": [
      "\u001b[0;31m---------------------------------------------------------------------------\u001b[0m",
      "\u001b[0;31mNameError\u001b[0m                                 Traceback (most recent call last)",
      "Cell \u001b[0;32mIn[3], line 3\u001b[0m\n\u001b[1;32m      1\u001b[0m \u001b[38;5;66;03m#q3\u001b[39;00m\n\u001b[1;32m      2\u001b[0m l\u001b[38;5;241m=\u001b[39m[\u001b[38;5;241m178\u001b[39m,\u001b[38;5;241m177\u001b[39m,\u001b[38;5;241m176\u001b[39m,\u001b[38;5;241m177\u001b[39m,\u001b[38;5;241m178.2\u001b[39m,\u001b[38;5;241m178\u001b[39m,\u001b[38;5;241m175\u001b[39m,\u001b[38;5;241m179\u001b[39m,\u001b[38;5;241m180\u001b[39m,\u001b[38;5;241m175\u001b[39m,\u001b[38;5;241m178.9\u001b[39m,\u001b[38;5;241m176.2\u001b[39m,\u001b[38;5;241m177\u001b[39m,\u001b[38;5;241m172.5\u001b[39m,\u001b[38;5;241m178\u001b[39m,\u001b[38;5;241m176.5\u001b[39m]\n\u001b[0;32m----> 3\u001b[0m p\u001b[38;5;241m=\u001b[39ml,\u001b[43mstd\u001b[49m()\n\u001b[1;32m      4\u001b[0m \u001b[38;5;28mprint\u001b[39m(p)\n",
      "\u001b[0;31mNameError\u001b[0m: name 'std' is not defined"
     ]
    }
   ],
   "source": [
    "#q3\n",
    "l=[178,177,176,177,178.2,178,175,179,180,175,178.9,176.2,177,172.5,178,176.5]\n",
    "p=l,std()\n",
    "print(p)"
   ]
  },
  {
   "cell_type": "code",
   "execution_count": 4,
   "id": "d6ecb5b6-6583-4134-aea5-e2f81cd25e5c",
   "metadata": {},
   "outputs": [
    {
     "data": {
      "text/plain": [
       "'\\nA Venn diagram is a visual representation used to show the relationships and similarities between different sets of items\\nThe primary purpose of a Venn diagram is to illustrate the logical relationships between different sets, allowing for a clear\\nvisualization of the common and distinct elements within those sets.\\n'"
      ]
     },
     "execution_count": 4,
     "metadata": {},
     "output_type": "execute_result"
    }
   ],
   "source": [
    "#q6\n",
    "\"\"\"\n",
    "A Venn diagram is a visual representation used to show the relationships and similarities between different sets of items\n",
    "The primary purpose of a Venn diagram is to illustrate the logical relationships between different sets, allowing for a clear\n",
    "visualization of the common and distinct elements within those sets.\n",
    "\"\"\"\n"
   ]
  },
  {
   "cell_type": "code",
   "execution_count": 6,
   "id": "06f87603-6f34-4cd1-93d4-720d98b87e51",
   "metadata": {},
   "outputs": [
    {
     "data": {
      "text/plain": [
       "'\\ns A = (2,3,4,5,6,7) & B = (0,2,6,8,10)\\na u b={2,3,4,5,6,7,8,10,0}\\n\\tA B= {2,6}\\n    '"
      ]
     },
     "execution_count": 6,
     "metadata": {},
     "output_type": "execute_result"
    }
   ],
   "source": [
    "#q7\n",
    "\"\"\"\n",
    "s A = (2,3,4,5,6,7) & B = (0,2,6,8,10)\n",
    "a u b={2,3,4,5,6,7,8,10,0}\n",
    "\tA B= {2,6}\n",
    "    \"\"\"\n",
    "    "
   ]
  },
  {
   "cell_type": "code",
   "execution_count": 7,
   "id": "31ebbf85-545a-4e43-bdb1-659fc53e2fc6",
   "metadata": {},
   "outputs": [
    {
     "data": {
      "text/plain": [
       "'\\nSkewness is a statistical measure that describes the asymmetry of the probability distribution of a dataset.\\n'"
      ]
     },
     "execution_count": 7,
     "metadata": {},
     "output_type": "execute_result"
    }
   ],
   "source": [
    "#q8\n",
    "\"\"\"\n",
    "Skewness is a statistical measure that describes the asymmetry of the probability distribution of a dataset.\n",
    "\"\"\""
   ]
  },
  {
   "cell_type": "code",
   "execution_count": 8,
   "id": "24d735f2-ac1d-4a4b-9a28-5dd470404967",
   "metadata": {},
   "outputs": [
    {
     "data": {
      "text/plain": [
       "'\\nmean>median>mode\\n'"
      ]
     },
     "execution_count": 8,
     "metadata": {},
     "output_type": "execute_result"
    }
   ],
   "source": [
    "#q9\n",
    "\"\"\"\n",
    "mean>median>mode\n",
    "\"\"\""
   ]
  },
  {
   "cell_type": "code",
   "execution_count": 9,
   "id": "1b01531c-cd5a-4354-aae9-5a52650ecca2",
   "metadata": {},
   "outputs": [
    {
     "data": {
      "text/plain": [
       "'\\ncovariance and corelation both are use to define the relationship between 2 random variable\\ncovariance can have any value till infinity\\ncorelation can have value from -1 to 1\\n'"
      ]
     },
     "execution_count": 9,
     "metadata": {},
     "output_type": "execute_result"
    }
   ],
   "source": [
    "#q10\n",
    "'''\n",
    "covariance and corelation both are use to define the relationship between 2 random variable\n",
    "covariance can have any value till infinity\n",
    "corelation can have value from -1 to 1\n",
    "'''"
   ]
  },
  {
   "cell_type": "code",
   "execution_count": 10,
   "id": "b57a8c71-d733-4855-9973-f7a3a32332f6",
   "metadata": {},
   "outputs": [
    {
     "data": {
      "text/html": [
       "<div>\n",
       "<style scoped>\n",
       "    .dataframe tbody tr th:only-of-type {\n",
       "        vertical-align: middle;\n",
       "    }\n",
       "\n",
       "    .dataframe tbody tr th {\n",
       "        vertical-align: top;\n",
       "    }\n",
       "\n",
       "    .dataframe thead th {\n",
       "        text-align: right;\n",
       "    }\n",
       "</style>\n",
       "<table border=\"1\" class=\"dataframe\">\n",
       "  <thead>\n",
       "    <tr style=\"text-align: right;\">\n",
       "      <th></th>\n",
       "      <th>total_bill</th>\n",
       "      <th>tip</th>\n",
       "      <th>sex</th>\n",
       "      <th>smoker</th>\n",
       "      <th>day</th>\n",
       "      <th>time</th>\n",
       "      <th>size</th>\n",
       "    </tr>\n",
       "  </thead>\n",
       "  <tbody>\n",
       "    <tr>\n",
       "      <th>0</th>\n",
       "      <td>16.99</td>\n",
       "      <td>1.01</td>\n",
       "      <td>Female</td>\n",
       "      <td>No</td>\n",
       "      <td>Sun</td>\n",
       "      <td>Dinner</td>\n",
       "      <td>2</td>\n",
       "    </tr>\n",
       "    <tr>\n",
       "      <th>1</th>\n",
       "      <td>10.34</td>\n",
       "      <td>1.66</td>\n",
       "      <td>Male</td>\n",
       "      <td>No</td>\n",
       "      <td>Sun</td>\n",
       "      <td>Dinner</td>\n",
       "      <td>3</td>\n",
       "    </tr>\n",
       "    <tr>\n",
       "      <th>2</th>\n",
       "      <td>21.01</td>\n",
       "      <td>3.50</td>\n",
       "      <td>Male</td>\n",
       "      <td>No</td>\n",
       "      <td>Sun</td>\n",
       "      <td>Dinner</td>\n",
       "      <td>3</td>\n",
       "    </tr>\n",
       "    <tr>\n",
       "      <th>3</th>\n",
       "      <td>23.68</td>\n",
       "      <td>3.31</td>\n",
       "      <td>Male</td>\n",
       "      <td>No</td>\n",
       "      <td>Sun</td>\n",
       "      <td>Dinner</td>\n",
       "      <td>2</td>\n",
       "    </tr>\n",
       "    <tr>\n",
       "      <th>4</th>\n",
       "      <td>24.59</td>\n",
       "      <td>3.61</td>\n",
       "      <td>Female</td>\n",
       "      <td>No</td>\n",
       "      <td>Sun</td>\n",
       "      <td>Dinner</td>\n",
       "      <td>4</td>\n",
       "    </tr>\n",
       "  </tbody>\n",
       "</table>\n",
       "</div>"
      ],
      "text/plain": [
       "   total_bill   tip     sex smoker  day    time  size\n",
       "0       16.99  1.01  Female     No  Sun  Dinner     2\n",
       "1       10.34  1.66    Male     No  Sun  Dinner     3\n",
       "2       21.01  3.50    Male     No  Sun  Dinner     3\n",
       "3       23.68  3.31    Male     No  Sun  Dinner     2\n",
       "4       24.59  3.61  Female     No  Sun  Dinner     4"
      ]
     },
     "execution_count": 10,
     "metadata": {},
     "output_type": "execute_result"
    }
   ],
   "source": [
    "#q11\n",
    "\"\"\"\n",
    "Sample Mean = (Sum of all data points) / (Number of data points)\n",
    "\"\"\"\n",
    "import seaborn as sns\n",
    "import numpy as np\n",
    "t=sns.load_dataset(\"tips\")\n",
    "t.head()"
   ]
  },
  {
   "cell_type": "code",
   "execution_count": 12,
   "id": "d461c76a-bc71-4e57-be90-9a3538768976",
   "metadata": {},
   "outputs": [
    {
     "name": "stdout",
     "output_type": "stream",
     "text": [
      "19.78594262295082\n"
     ]
    }
   ],
   "source": [
    "p=np.mean(t[\"total_bill\"])\n",
    "print(p)"
   ]
  },
  {
   "cell_type": "code",
   "execution_count": 13,
   "id": "adfdcdb2-a2e9-4c3b-a833-3c3b263ee973",
   "metadata": {},
   "outputs": [
    {
     "data": {
      "text/plain": [
       "'\\nall three mean,median,mode are equaL for the normal distribution\\n'"
      ]
     },
     "execution_count": 13,
     "metadata": {},
     "output_type": "execute_result"
    }
   ],
   "source": [
    "#q12\n",
    "\"\"\"\n",
    "all three mean,median,mode are equaL for the normal distribution\n",
    "\"\"\""
   ]
  },
  {
   "cell_type": "code",
   "execution_count": null,
   "id": "020c6c63-d776-40a9-94d0-47e76680d6c7",
   "metadata": {},
   "outputs": [],
   "source": [
    "#q13\n",
    "\"\"\""
   ]
  },
  {
   "cell_type": "code",
   "execution_count": 14,
   "id": "fbca5ca6-8dbb-46c3-924b-f017a757ddba",
   "metadata": {},
   "outputs": [
    {
     "data": {
      "text/plain": [
       "'\\ncovariance and corelation both are use to define the relationship between 2 random variable\\ncovariance can have any value till infinity\\ncorelation can have value from -1 to 1\\n'"
      ]
     },
     "execution_count": 14,
     "metadata": {},
     "output_type": "execute_result"
    }
   ],
   "source": [
    "#q10\n",
    "'''\n",
    "covariance and corelation both are use to define the relationship between 2 random variable\n",
    "covariance can have any value till infinity\n",
    "corelation can have value from -1 to 1\n",
    "'''"
   ]
  },
  {
   "cell_type": "code",
   "execution_count": null,
   "id": "2cb5be2e-8da7-4214-b0c9-a5172948ae58",
   "metadata": {},
   "outputs": [],
   "source": []
  }
 ],
 "metadata": {
  "kernelspec": {
   "display_name": "Python 3 (ipykernel)",
   "language": "python",
   "name": "python3"
  },
  "language_info": {
   "codemirror_mode": {
    "name": "ipython",
    "version": 3
   },
   "file_extension": ".py",
   "mimetype": "text/x-python",
   "name": "python",
   "nbconvert_exporter": "python",
   "pygments_lexer": "ipython3",
   "version": "3.10.8"
  }
 },
 "nbformat": 4,
 "nbformat_minor": 5
}
