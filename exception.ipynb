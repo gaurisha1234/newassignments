{
 "cells": [
  {
   "cell_type": "code",
   "execution_count": 1,
   "id": "dc8ea73d-1091-45e9-8ab7-911974321559",
   "metadata": {},
   "outputs": [
    {
     "data": {
      "text/plain": [
       "'\\nexception in python are the run time errors in this logic is incorrectly use\\nsyntax error are the error in which incorrect syntax of language is use '"
      ]
     },
     "execution_count": 1,
     "metadata": {},
     "output_type": "execute_result"
    }
   ],
   "source": [
    "#Q1\n",
    "\"\"\"\n",
    "exception in python are the run time errors in this logic is incorrectly use\n",
    "syntax error are the error in which incorrect syntax of language is use \"\"\" \n"
   ]
  },
  {
   "cell_type": "code",
   "execution_count": 2,
   "id": "ec7c1d45-a5e6-420e-9988-257abd32d2db",
   "metadata": {},
   "outputs": [
    {
     "ename": "ZeroDivisionError",
     "evalue": "division by zero",
     "output_type": "error",
     "traceback": [
      "\u001b[0;31m---------------------------------------------------------------------------\u001b[0m",
      "\u001b[0;31mZeroDivisionError\u001b[0m                         Traceback (most recent call last)",
      "Cell \u001b[0;32mIn[2], line 4\u001b[0m\n\u001b[1;32m      1\u001b[0m \u001b[38;5;66;03m#Q2\u001b[39;00m\n\u001b[1;32m      2\u001b[0m \u001b[38;5;124;03m\"\"\"when a exception is not handled the working of code will stop and it will not further run and we will not get desired output\"\"\"\u001b[39;00m\n\u001b[0;32m----> 4\u001b[0m a\u001b[38;5;241m=\u001b[39m\u001b[38;5;241;43m10\u001b[39;49m\u001b[38;5;241;43m/\u001b[39;49m\u001b[38;5;241;43m0\u001b[39;49m\n\u001b[1;32m      5\u001b[0m \u001b[38;5;28mprint\u001b[39m(a)\n\u001b[1;32m      6\u001b[0m \u001b[38;5;28mprint\u001b[39m(\u001b[38;5;241m5\u001b[39m\u001b[38;5;241m+\u001b[39m\u001b[38;5;241m4\u001b[39m)\n",
      "\u001b[0;31mZeroDivisionError\u001b[0m: division by zero"
     ]
    }
   ],
   "source": [
    "#Q2\n",
    "\"\"\"when a exception is not handled the working of code will stop and it will not further run and we will not get desired output\"\"\"\n",
    "\n",
    "a=10/0\n",
    "print(a)\n",
    "print(5+4)\n",
    "print(\"gaurisha\")"
   ]
  },
  {
   "cell_type": "code",
   "execution_count": null,
   "id": "7c578c10-453b-4d69-9ec7-c12681741005",
   "metadata": {},
   "outputs": [
    {
     "name": "stdout",
     "output_type": "stream",
     "text": [
      "division by zero\n"
     ]
    }
   ],
   "source": [
    "#Q3\n",
    "\"\"\" in python we use try except block to handle the exception try block is use in the code when a code can get a error \n",
    "and except is use to catch the exception \"\"\"\n",
    "try:\n",
    " a=10\n",
    " b=0\n",
    " c=a/b\n",
    "except ZeroDivisionError as e :\n",
    "    print(e)"
   ]
  },
  {
   "cell_type": "code",
   "execution_count": 6,
   "id": "72995339-bffa-4538-8406-e347f22b4c28",
   "metadata": {},
   "outputs": [
    {
     "name": "stdout",
     "output_type": "stream",
     "text": [
      "[Errno 2] No such file or directory: 'yu.txt'\n"
     ]
    }
   ],
   "source": [
    "try :\n",
    "    f= open(\"yu.txt\",\"r\")\n",
    "    f.read()\n",
    "except FileNotFoundError as e:\n",
    "    print(e)"
   ]
  },
  {
   "cell_type": "code",
   "execution_count": 7,
   "id": "15469ceb-19ae-4d9a-898f-d1f9848e3f99",
   "metadata": {},
   "outputs": [
    {
     "name": "stdout",
     "output_type": "stream",
     "text": [
      "3.3333333333333335\n",
      "13\n"
     ]
    }
   ],
   "source": [
    "#Q4\n",
    "#a\n",
    "try:\n",
    "    a=10\n",
    "    b=3\n",
    "    c=a/b\n",
    "    print(c)\n",
    "except ZeroDivisionError as e:\n",
    "    print(e)\n",
    "else:\n",
    "    d=a+b\n",
    "    print(d)"
   ]
  },
  {
   "cell_type": "code",
   "execution_count": 8,
   "id": "c028071d-4828-489a-bd66-eda60fc463dd",
   "metadata": {},
   "outputs": [
    {
     "name": "stdout",
     "output_type": "stream",
     "text": [
      " i want to become data scientist\n"
     ]
    }
   ],
   "source": [
    "#b\n",
    "try:\n",
    "    f=open(\"t1.txt\",\"r\")\n",
    "    data=f.read()\n",
    "    print(data)\n",
    "finally:\n",
    "    f.close()\n",
    "    "
   ]
  },
  {
   "cell_type": "code",
   "execution_count": 15,
   "id": "ec6f35f8-d7de-45ad-b1a1-1ba00dc7fc0d",
   "metadata": {},
   "outputs": [
    {
     "name": "stdin",
     "output_type": "stream",
     "text": [
      "enter age 789\n"
     ]
    },
    {
     "name": "stdout",
     "output_type": "stream",
     "text": [
      "no person can have this Gage!!!\n"
     ]
    }
   ],
   "source": [
    "#q5\n",
    "\"\"\" custom exception are use when we want to create the user defined exception we use raise keyword to make user \n",
    "defined exception \"\"\"\n",
    "class validate(Exception):\n",
    "    pass\n",
    "def check(age):\n",
    "    if age<0:\n",
    "        raise validate(\"enter valid age !!!\")\n",
    "    elif age>200:\n",
    "        raise validate(\"no person can have this Gage!!!\")\n",
    "    else:\n",
    "        print(\"valid age!!!\")\n",
    "try:\n",
    "    age=int(input(\"enter age\"))\n",
    "    check(age)\n",
    "except validate as e:\n",
    "    print(e)"
   ]
  },
  {
   "cell_type": "code",
   "execution_count": 16,
   "id": "17c9ba14-2bcb-4f8d-bc18-99292c1f4877",
   "metadata": {},
   "outputs": [
    {
     "name": "stdin",
     "output_type": "stream",
     "text": [
      "enter a no !! -3\n"
     ]
    },
    {
     "name": "stdout",
     "output_type": "stream",
     "text": [
      "Error: Value cannot be negative\n"
     ]
    }
   ],
   "source": [
    "#q6\n",
    "class MyCustomException(Exception):\n",
    "    pass\n",
    "\n",
    "def check_value(value):\n",
    "    if value < 0:\n",
    "        raise MyCustomException(\"Value cannot be negative\")\n",
    "\n",
    "try:\n",
    "    a=int(input(\"enter a no !!\"))\n",
    "    check_value(a)\n",
    "except MyCustomException as error:\n",
    "    print(\"Error:\", error)\n"
   ]
  },
  {
   "cell_type": "code",
   "execution_count": null,
   "id": "66e01d6f-6ce8-4843-9ac5-96fa1f3977d5",
   "metadata": {},
   "outputs": [],
   "source": []
  }
 ],
 "metadata": {
  "kernelspec": {
   "display_name": "Python 3 (ipykernel)",
   "language": "python",
   "name": "python3"
  },
  "language_info": {
   "codemirror_mode": {
    "name": "ipython",
    "version": 3
   },
   "file_extension": ".py",
   "mimetype": "text/x-python",
   "name": "python",
   "nbconvert_exporter": "python",
   "pygments_lexer": "ipython3",
   "version": "3.10.8"
  }
 },
 "nbformat": 4,
 "nbformat_minor": 5
}
