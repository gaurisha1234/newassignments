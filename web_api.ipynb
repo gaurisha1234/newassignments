{
 "cells": [
  {
   "cell_type": "code",
   "execution_count": 1,
   "id": "b3aec911-e113-4e60-a536-003300ecdef6",
   "metadata": {},
   "outputs": [
    {
     "data": {
      "text/plain": [
       "'\\napi stands for application programming interface is a set of rules and protocols that allows different software applications to \\ncommunicate with each other. It defines the methods and data formats that applications can use to \\nrequest services from each other. \\n\\nGoogle Maps API. Google provides an API that allows developers to integrate Google Maps functionality into their own applications or websites. \\nDevelopers can use this API to access \\nvarious services provided by Google Maps, such as retrieving maps, geocoding addresses, calculating directions, and displaying points of interest.\\n'"
      ]
     },
     "execution_count": 1,
     "metadata": {},
     "output_type": "execute_result"
    }
   ],
   "source": [
    "#q1\n",
    "\"\"\"\n",
    "api stands for application programming interface is a set of rules and protocols that allows different software applications to \n",
    "communicate with each other. It defines the methods and data formats that applications can use to \n",
    "request services from each other. \n",
    "\n",
    "Google Maps API. Google provides an API that allows developers to integrate Google Maps functionality into their own applications or websites. \n",
    "Developers can use this API to access \n",
    "various services provided by Google Maps, such as retrieving maps, geocoding addresses, calculating directions, and displaying points of interest.\n",
    "\"\"\""
   ]
  },
  {
   "cell_type": "code",
   "execution_count": 2,
   "id": "151ee7df-e180-401a-b34d-b402ed6e43e0",
   "metadata": {},
   "outputs": [
    {
     "data": {
      "text/plain": [
       "'\\nadvantges:\\n1. efficent\\n2. reusabilty\\n3. scalibity\\n4. collaboration\\n\\ndiadvantges:\\n1. dependency\\n2. security\\n3. perfomance bottenecks\\n'"
      ]
     },
     "execution_count": 2,
     "metadata": {},
     "output_type": "execute_result"
    }
   ],
   "source": [
    "#q2\n",
    "\"\"\"\n",
    "advantges:\n",
    "1. efficent\n",
    "2. reusabilty\n",
    "3. scalibity\n",
    "4. collaboration\n",
    "\n",
    "diadvantges:\n",
    "1. dependency\n",
    "2. security\n",
    "3. perfomance bottenecks\n",
    "\"\"\""
   ]
  },
  {
   "cell_type": "code",
   "execution_count": 3,
   "id": "30b37141-266c-45b6-a016-4246abd2c53e",
   "metadata": {},
   "outputs": [
    {
     "data": {
      "text/plain": [
       "'\\nrest api (representational state transfer) soap (simple object acess protocol)\\nREST is an architectural style that emphasizes a stateless, client-server communication \\nmodel. It relies on standard HTTP methods, such as GET, POST, PUT, DELETE, to interact with resources \\nidentified by URLs (Uniform Resource Locators). \\n\\nSOAP is a protocol and messaging format used for exchanging structured information in web services.\\nIt typically relies on XML (Extensible Markup Language) for data representation and uses various protocols such as HTTP, SMTP, or \\nTCP for transport. SOAP\\n'"
      ]
     },
     "execution_count": 3,
     "metadata": {},
     "output_type": "execute_result"
    }
   ],
   "source": [
    "#q4\n",
    "\"\"\"\n",
    "rest api (representational state transfer) soap (simple object acess protocol)\n",
    "REST is an architectural style that emphasizes a stateless, client-server communication \n",
    "model. It relies on standard HTTP methods, such as GET, POST, PUT, DELETE, to interact with resources \n",
    "identified by URLs (Uniform Resource Locators). \n",
    "\n",
    "SOAP is a protocol and messaging format used for exchanging structured information in web services.\n",
    "It typically relies on XML (Extensible Markup Language) for data representation and uses various protocols such as HTTP, SMTP, or \n",
    "TCP for transport. SOAP\n",
    "\"\"\""
   ]
  },
  {
   "cell_type": "code",
   "execution_count": null,
   "id": "40d7faf4-a7ca-4fea-83ff-6048fe5f6617",
   "metadata": {},
   "outputs": [],
   "source": [
    "#q5\n",
    "\"\"\"\n",
    "Communication Style:\n",
    "\n",
    "REST: REST follows a stateless client-server communication model. It uses standard HTTP methods like GET, POST, PUT, and DELETE to interact \n",
    "with resources identified by URLs.\n",
    "SOAP: SOAP relies on a messaging protocol for communication. It can use various transport protocols such as HTTP, SMTP, or TCP.\n",
    "Data Format:\n",
    "\n",
    "REST: RESTful APIs often use lightweight data formats like JSON (JavaScript Object Notation) or XML (eXtensible Markup Language) for data\n",
    "representation. JSON is more commonly used due to its simplicity and ease of parsing.\n",
    "SOAP: SOAP uses XML for data representation. SOAP messages are typically more verbose and contain additional metadata compared to REST.\n",
    "Protocol:\n",
    "\n",
    "REST: REST is protocol-independent but commonly uses HTTP as the underlying protocol for communication. It leverages HTTP methods and \n",
    "status codes to handle resource operations and status information.\n",
    "SOAP: SOAP can use various protocols for transport, such as HTTP, SMTP, or TCP. It provides its own protocol for messaging and is not tightly \n",
    "coupled with HTTP.\n",
    "Flexibility and Scalability:\n",
    "\n",
    "REST: REST is known for its flexibility and scalability. It allows for the creation of loosely coupled services that can be easily extended and\n",
    "modified. RESTful APIs can evolve over time without affecting clients that rely on them.\n",
    "SOAP: SOAP is often associated with a more rigid and tightly coupled architecture. It relies on formal contracts (WSDL) and strong typing,\n",
    "which can make it less flexible and harder to modify or extend without impacting existing clients.\n",
    "Performance:\n",
    "\n",
    "REST: RESTful APIs are typically lightweight and have better performance due to their use of simpler data formats like JSON and the stateless \n",
    "nature of HTTP.\n",
    "SOAP: SOAP messages tend to be larger in size due to XML's verbose nature, which can result in increased network bandwidth usage and slower \n",
    "performance.\n",
    "Ease of Use:\n",
    "\n",
    "REST: RESTful APIs are relatively easy to understand, use, and consume. They have a more intuitive and human-readable structure,\n",
    "making them easier to work with, especially for developers.\n",
    "SOAP: SOAP can be more complex to implement and consume. It requires additional configuration, and the XML-based structure of SOAP \n",
    "messages can be harder to read and work with.\n",
    "\"\"\""
   ]
  }
 ],
 "metadata": {
  "kernelspec": {
   "display_name": "Python 3 (ipykernel)",
   "language": "python",
   "name": "python3"
  },
  "language_info": {
   "codemirror_mode": {
    "name": "ipython",
    "version": 3
   },
   "file_extension": ".py",
   "mimetype": "text/x-python",
   "name": "python",
   "nbconvert_exporter": "python",
   "pygments_lexer": "ipython3",
   "version": "3.10.8"
  }
 },
 "nbformat": 4,
 "nbformat_minor": 5
}
