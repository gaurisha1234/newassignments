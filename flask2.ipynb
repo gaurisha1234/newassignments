{
 "cells": [
  {
   "cell_type": "code",
   "execution_count": 1,
   "id": "28734e72-f8f9-4d95-8cba-ab8590ebd3f9",
   "metadata": {},
   "outputs": [
    {
     "data": {
      "text/plain": [
       "'\\nThe Hypertext Transfer Protocol(HTTP) Get method is mainly used at the client (Browser) side to send a request to a specified server to get certain \\ndata or resources. Using this method the server should only let us receive the data and not change its state. Hence it is only used to view something \\nand not to change it. Get method is one of the most \\nused HTTP method. The request parameter of the get method is appended to the URL. Get request is better for the data which does not need to be secure\\n\\nThe Hypertext Transfer Protocol(HTTP) Post method is mainly used at the client (Browser) side to send data to a Specified server in order to create or\\nrewrite a particular resource/data. This data sent to the server is stored in the request body of the HTTP request. Post method eventually leads to \\nthe creation of a new resource or updating an existing one. Due to this dynamic use, it is one of the most used HTTP methods. It is not one of the \\nmost secure methods because the data that is been sent is included in the body of the \\nrequest and not in the URL. Post request is better for the data which needs to be secure '"
      ]
     },
     "execution_count": 1,
     "metadata": {},
     "output_type": "execute_result"
    }
   ],
   "source": [
    "#q1\n",
    "\"\"\"\n",
    "The Hypertext Transfer Protocol(HTTP) Get method is mainly used at the client (Browser) side to send a request to a specified server to get certain \n",
    "data or resources. Using this method the server should only let us receive the data and not change its state. Hence it is only used to view something \n",
    "and not to change it. Get method is one of the most \n",
    "used HTTP method. The request parameter of the get method is appended to the URL. Get request is better for the data which does not need to be secure\n",
    "\n",
    "The Hypertext Transfer Protocol(HTTP) Post method is mainly used at the client (Browser) side to send data to a Specified server in order to create or\n",
    "rewrite a particular resource/data. This data sent to the server is stored in the request body of the HTTP request. Post method eventually leads to \n",
    "the creation of a new resource or updating an existing one. Due to this dynamic use, it is one of the most used HTTP methods. It is not one of the \n",
    "most secure methods because the data that is been sent is included in the body of the \n",
    "request and not in the URL. Post request is better for the data which needs to be secure \"\"\"\n"
   ]
  },
  {
   "cell_type": "code",
   "execution_count": 2,
   "id": "d20b8fa3-b6b9-4f76-a317-3ca763f54943",
   "metadata": {},
   "outputs": [
    {
     "data": {
      "text/plain": [
       "'\\nrequest contain all the data that has been sent from client to server\\nthey use methods like get/post it is use to get data from the user it acts as a object in the flask\\n'"
      ]
     },
     "execution_count": 2,
     "metadata": {},
     "output_type": "execute_result"
    }
   ],
   "source": [
    "#q2\n",
    "\"\"\"\n",
    "request contain all the data that has been sent from client to server\n",
    "they use methods like get/post it is use to get data from the user it acts as a object in the flask\n",
    "\"\"\""
   ]
  },
  {
   "cell_type": "code",
   "execution_count": 3,
   "id": "cc97e4ea-8466-4c1a-a63f-60dc784fea12",
   "metadata": {},
   "outputs": [
    {
     "data": {
      "text/plain": [
       "'\\nredirect is used in flask when we want to get  directed in the specified url and assign them a specific status code\\n'"
      ]
     },
     "execution_count": 3,
     "metadata": {},
     "output_type": "execute_result"
    }
   ],
   "source": [
    "#q3\n",
    "\"\"\"\n",
    "redirect is used in flask when we want to get  directed in the specified url and assign them a specific status code\n",
    "\"\"\""
   ]
  },
  {
   "cell_type": "code",
   "execution_count": null,
   "id": "7ceda74c-f8db-4350-bd89-29acd9f9ef38",
   "metadata": {},
   "outputs": [],
   "source": [
    "#q4\n",
    "\"\"\"\n",
    "render template is use to generate output from a template file based \n"
   ]
  }
 ],
 "metadata": {
  "kernelspec": {
   "display_name": "Python 3 (ipykernel)",
   "language": "python",
   "name": "python3"
  },
  "language_info": {
   "codemirror_mode": {
    "name": "ipython",
    "version": 3
   },
   "file_extension": ".py",
   "mimetype": "text/x-python",
   "name": "python",
   "nbconvert_exporter": "python",
   "pygments_lexer": "ipython3",
   "version": "3.10.8"
  }
 },
 "nbformat": 4,
 "nbformat_minor": 5
}
