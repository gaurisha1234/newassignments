{
 "cells": [
  {
   "cell_type": "code",
   "execution_count": 3,
   "id": "b75c35b1-f203-4cf1-b2e9-08e44a707dae",
   "metadata": {},
   "outputs": [
    {
     "name": "stdout",
     "output_type": "stream",
     "text": [
      "25434.000000000004\n",
      "565.2\n",
      "3312\n",
      "234\n"
     ]
    }
   ],
   "source": [
    "#q1\n",
    "\"\"\"\n",
    "abstraction is defined as showing only essential details to the user and hiding all internal details from the user \"\"\"\n",
    "from abc import ABC, abstractmethod\n",
    "\n",
    "class S(ABC):\n",
    "    @abstractmethod\n",
    "    def area(self):\n",
    "        pass\n",
    "\n",
    "    @abstractmethod\n",
    "    def perimeter(self):\n",
    "        pass\n",
    "\n",
    "class Circle_make(S):\n",
    "    def __init__(self, radius):\n",
    "        self.radius = radius\n",
    "\n",
    "    def area(self):\n",
    "        return 3.14 * self.radius * self.radius\n",
    "\n",
    "    def perimeter(self):\n",
    "        return 2 * 3.14 * self.radius\n",
    "\n",
    "class Rectangle_jk(S):\n",
    "    def __init__(self, length, width):\n",
    "        self.length = length\n",
    "        self.width = width\n",
    "\n",
    "    def area(self):\n",
    "        return self.length * self.width\n",
    "\n",
    "    def perimeter(self):\n",
    "        return 2 * (self.length + self.width)\n",
    "\n",
    "circle = Circle_make(90)\n",
    "rectangle = Rectangle_jk(48, 69)\n",
    "print(circle.area())        \n",
    "print(circle.perimeter())   \n",
    "print(rectangle.area())     \n",
    "print(rectangle.perimeter())\n"
   ]
  },
  {
   "cell_type": "code",
   "execution_count": 4,
   "id": "513a1501-75c5-4a8f-8965-5140450c09eb",
   "metadata": {},
   "outputs": [
    {
     "data": {
      "text/plain": [
       "' abstraction is defined as process of gaining the information it is method of hiding unwanted information\\nencapsulation is the process to contain the method it is implemented using acess modifier '"
      ]
     },
     "execution_count": 4,
     "metadata": {},
     "output_type": "execute_result"
    }
   ],
   "source": [
    "#q2\n",
    "\"\"\" abstraction is defined as process of gaining the information it is method of hiding unwanted information\n",
    "encapsulation is the process to contain the method it is implemented using acess modifier \"\"\""
   ]
  },
  {
   "cell_type": "code",
   "execution_count": 5,
   "id": "594a855a-49d0-4270-b0ae-b441a1494e56",
   "metadata": {},
   "outputs": [
    {
     "data": {
      "text/plain": [
       "'thank you !!!'"
      ]
     },
     "execution_count": 5,
     "metadata": {},
     "output_type": "execute_result"
    }
   ],
   "source": [
    "#q3 \n",
    "\"\"\" abc method in python is used for defining abstract methods in python these are the methods in which we define only the method name\n",
    "and then by inheriting the class we can define the methods as we want \"\"\"\n",
    "from abc import ABC,abstractmethod\n",
    "class pw:\n",
    "    def m1(self):\n",
    "        pass\n",
    "    def m2(self):\n",
    "        pass\n",
    "class ds(pw):\n",
    "    def m1(self):\n",
    "        return \"hii\"\n",
    "    def m2(self):\n",
    "        return \"heloooo@\"\n",
    "class wb(pw):\n",
    "    def m1(self):\n",
    "        return \"fine thank you \"\n",
    "    def  m2(self):\n",
    "        return\"thank you !!!\"\n",
    "d=ds()\n",
    "w=wb()\n",
    "d.m1()\n",
    "w.m2()"
   ]
  },
  {
   "cell_type": "code",
   "execution_count": null,
   "id": "1f9269e0-cd0e-497f-ae92-f2c06a006226",
   "metadata": {},
   "outputs": [],
   "source": [
    "#q4\n",
    "\"\"\" abstraction can be achieved by 2 ways :\n",
    "1. abstract base class(abc):\n",
    "Python provides the abc module, which allows you to create abstract base classes. An abstract base class defines abstract methods that must \n",
    "be implemented by any concrete \n",
    "class inheriting from it. The abstractmethod decorator is used to mark methods as abstract.\n",
    "2. by interfaces:\n"
   ]
  }
 ],
 "metadata": {
  "kernelspec": {
   "display_name": "Python 3 (ipykernel)",
   "language": "python",
   "name": "python3"
  },
  "language_info": {
   "codemirror_mode": {
    "name": "ipython",
    "version": 3
   },
   "file_extension": ".py",
   "mimetype": "text/x-python",
   "name": "python",
   "nbconvert_exporter": "python",
   "pygments_lexer": "ipython3",
   "version": "3.10.8"
  }
 },
 "nbformat": 4,
 "nbformat_minor": 5
}
