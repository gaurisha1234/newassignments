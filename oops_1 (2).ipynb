{
 "cells": [
  {
   "cell_type": "code",
   "execution_count": 9,
   "id": "71b8b429-c175-4bd6-9143-8d2f9a7d4efb",
   "metadata": {},
   "outputs": [
    {
     "name": "stdout",
     "output_type": "stream",
     "text": [
      "hii how are you\n",
      "how are u\n"
     ]
    }
   ],
   "source": [
    "\"\"\" q1\n",
    "class is user defined data type which can contain variables methods consrtuctor we can keep our data private protected and public\n",
    "in the class it is basically the blue print of what we want .\n",
    "\n",
    "objects are real world entity by the help of objects we can acces the methods inside the class \"\"\"\n",
    "\n",
    "class gaurisha:\n",
    "    def __init__(self):\n",
    "        print(\"hii how are you\")\n",
    "    def m(self):\n",
    "            print(\"how are u\")\n",
    "g=gaurisha()\n",
    "g.m()"
   ]
  },
  {
   "cell_type": "code",
   "execution_count": null,
   "id": "cbcc9f11-6341-4182-854a-c4c6f36a2656",
   "metadata": {},
   "outputs": [],
   "source": []
  },
  {
   "cell_type": "code",
   "execution_count": 10,
   "id": "0e04ac00-7a61-4709-bdb0-8f7e3efea6a5",
   "metadata": {},
   "outputs": [
    {
     "data": {
      "text/plain": [
       "' q2 \\nfour pillars of oops are :\\ninheritance\\npolymorphism\\nabstraction\\nencapsulation '"
      ]
     },
     "execution_count": 10,
     "metadata": {},
     "output_type": "execute_result"
    }
   ],
   "source": [
    "\"\"\" q2 \n",
    "four pillars of oops are :\n",
    "inheritance\n",
    "polymorphism\n",
    "abstraction\n",
    "encapsulation \"\"\"\n"
   ]
  },
  {
   "cell_type": "code",
   "execution_count": 11,
   "id": "c52e1b22-ffe7-4d72-b17c-2f046551fa5a",
   "metadata": {},
   "outputs": [
    {
     "name": "stdout",
     "output_type": "stream",
     "text": [
      "ktm\n",
      "C\n",
      "2022\n"
     ]
    }
   ],
   "source": [
    "\"\"\" init function is used when method is to ensure that all the required attributes of an object are properly initialized before the object is ready for use. It allows you to define the\n",
    "initial state or values of the object's attributes.\"\"\"\n",
    "class bike:\n",
    "    def __init__(self, make, model, year):\n",
    "        self.make = make\n",
    "        self.model = model\n",
    "        self.year = year\n",
    "\n",
    "b = bike(\"ktm\", \"C\", 2022)\n",
    "print(b.make)  # Output: Toyota\n",
    "print(b.model)  # Output: Camry\n",
    "print(b.year)  # Output: 2022\n"
   ]
  },
  {
   "cell_type": "code",
   "execution_count": 12,
   "id": "1adf4a8b-0af5-4cc8-9aff-0c061663fd54",
   "metadata": {},
   "outputs": [
    {
     "data": {
      "text/plain": [
       "\"\\nq3\\nWhen a method is called on an instance of a class, the instance is automatically passed as the first argument \\nto the method. By convention, this argument is named self, although you can choose a different name \\nif you prefer. It's important to note that self is just a convention and not a keyword in Python.\\n\""
      ]
     },
     "execution_count": 12,
     "metadata": {},
     "output_type": "execute_result"
    }
   ],
   "source": [
    "\"\"\"\n",
    "q3\n",
    "When a method is called on an instance of a class, the instance is automatically passed as the first argument \n",
    "to the method. By convention, this argument is named self, although you can choose a different name \n",
    "if you prefer. It's important to note that self is just a convention and not a keyword in Python.\n",
    "\"\"\""
   ]
  },
  {
   "cell_type": "code",
   "execution_count": null,
   "id": "836af783-459a-49fe-9608-1db780d62af6",
   "metadata": {},
   "outputs": [],
   "source": [
    "\"\"\"\n",
    "q4 \n",
    "inheritance is use to inherit the property of one class to another . it provides the use resuability \n",
    "one can write the class one time and can extend it one another class and then by creating the object of that class we can use function\n",
    "of both the class\n",
    "it is of \n",
    "1. simple\n",
    "2. multiple\n",
    "3. multilevel\n",
    "4. \n"
   ]
  }
 ],
 "metadata": {
  "kernelspec": {
   "display_name": "Python 3 (ipykernel)",
   "language": "python",
   "name": "python3"
  },
  "language_info": {
   "codemirror_mode": {
    "name": "ipython",
    "version": 3
   },
   "file_extension": ".py",
   "mimetype": "text/x-python",
   "name": "python",
   "nbconvert_exporter": "python",
   "pygments_lexer": "ipython3",
   "version": "3.10.8"
  }
 },
 "nbformat": 4,
 "nbformat_minor": 5
}
