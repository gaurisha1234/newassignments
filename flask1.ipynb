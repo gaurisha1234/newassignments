{
 "cells": [
  {
   "cell_type": "code",
   "execution_count": 1,
   "id": "71f5828f-5865-4a4e-9541-4a86c827b569",
   "metadata": {},
   "outputs": [
    {
     "data": {
      "text/plain": [
       "' flask is a framework for devloping websites using python it basically act as a backend for the html code\\nadvantges\\n1. lightweight\\n2. flexibilty\\n3. extensibility\\ndisadvantges\\n1. scalibitly\\n2. limited batteries\\n'"
      ]
     },
     "execution_count": 1,
     "metadata": {},
     "output_type": "execute_result"
    }
   ],
   "source": [
    "#q1\n",
    "\"\"\" flask is a framework for devloping websites using python it basically act as a backend for the html code\n",
    "advantges\n",
    "1. lightweight\n",
    "2. flexibilty\n",
    "3. extensibility\n",
    "disadvantges\n",
    "1. scalibitly\n",
    "2. limited batteries\n",
    "\"\"\""
   ]
  },
  {
   "cell_type": "code",
   "execution_count": 2,
   "id": "c7827587-fbe4-4331-a3ba-ad10340a11ad",
   "metadata": {},
   "outputs": [],
   "source": [
    "#q2\n",
    "from flask import Flask"
   ]
  },
  {
   "cell_type": "code",
   "execution_count": 3,
   "id": "a5174fb7-116c-43d5-b094-0b038433e04e",
   "metadata": {},
   "outputs": [
    {
     "name": "stdout",
     "output_type": "stream",
     "text": [
      "Requirement already satisfied: flask in /opt/conda/lib/python3.10/site-packages (2.3.2)\n",
      "Requirement already satisfied: Jinja2>=3.1.2 in /opt/conda/lib/python3.10/site-packages (from flask) (3.1.2)\n",
      "Requirement already satisfied: click>=8.1.3 in /opt/conda/lib/python3.10/site-packages (from flask) (8.1.3)\n",
      "Requirement already satisfied: blinker>=1.6.2 in /opt/conda/lib/python3.10/site-packages (from flask) (1.6.2)\n",
      "Requirement already satisfied: itsdangerous>=2.1.2 in /opt/conda/lib/python3.10/site-packages (from flask) (2.1.2)\n",
      "Requirement already satisfied: Werkzeug>=2.3.3 in /opt/conda/lib/python3.10/site-packages (from flask) (2.3.6)\n",
      "Requirement already satisfied: MarkupSafe>=2.0 in /opt/conda/lib/python3.10/site-packages (from Jinja2>=3.1.2->flask) (2.1.1)\n",
      "Note: you may need to restart the kernel to use updated packages.\n"
     ]
    }
   ],
   "source": [
    "pip install flask\n"
   ]
  },
  {
   "cell_type": "code",
   "execution_count": 4,
   "id": "6843f1b4-fb8f-4a90-8005-c9a488eec30a",
   "metadata": {},
   "outputs": [],
   "source": [
    "from flask import Flask"
   ]
  },
  {
   "cell_type": "code",
   "execution_count": 8,
   "id": "76e6daa9-f9b8-42d5-865b-ec1b98bb00b2",
   "metadata": {},
   "outputs": [],
   "source": [
    "app=Flask(__name__)\n",
    "@app.route('/')\n",
    "def h1():\n",
    "    return\"<h1> hello</h1>\"\n",
    "if __name__=='main':\n",
    "    app.run(host=\"0.0.0.0\")\n"
   ]
  },
  {
   "cell_type": "code",
   "execution_count": null,
   "id": "90e92096-7062-4818-a107-542640a6ce5f",
   "metadata": {},
   "outputs": [],
   "source": [
    "#q3\n",
    "\"\"\" app routing is the process of mapping url within a specific function it allow you to define diffrent routes and associate them with \n",
    "specific function that handle the requst made by http \"\"\""
   ]
  },
  {
   "cell_type": "code",
   "execution_count": null,
   "id": "a039fb34-b3a1-49a2-b53f-f10683a17c99",
   "metadata": {},
   "outputs": [
    {
     "name": "stdout",
     "output_type": "stream",
     "text": [
      " * Serving Flask app '__main__'\n",
      " * Debug mode: off\n"
     ]
    },
    {
     "name": "stderr",
     "output_type": "stream",
     "text": [
      "WARNING: This is a development server. Do not use it in a production deployment. Use a production WSGI server instead.\n",
      " * Running on http://127.0.0.1:5000\n",
      "Press CTRL+C to quit\n"
     ]
    }
   ],
   "source": [
    "#q4\n",
    "from flask import Flask\n",
    "app=Flask(__name__)\n",
    "@app.route(\"/welcome\")\n",
    "def h2():\n",
    "    return \"<h1> welcome to company </h1>\"\n",
    "@app.route(\"/\")\n",
    "def h3():\n",
    "    return '''Company Name: ABC Corporation\n",
    "              Location: India\n",
    "              Contact Detail: 999-999-9999'''\n",
    "\n",
    "if __name__ == '__main__':\n",
    "    app.run()"
   ]
  },
  {
   "cell_type": "code",
   "execution_count": null,
   "id": "ee74706d-e124-453f-9652-438da5b3a51c",
   "metadata": {},
   "outputs": [],
   "source": []
  }
 ],
 "metadata": {
  "kernelspec": {
   "display_name": "Python 3 (ipykernel)",
   "language": "python",
   "name": "python3"
  },
  "language_info": {
   "codemirror_mode": {
    "name": "ipython",
    "version": 3
   },
   "file_extension": ".py",
   "mimetype": "text/x-python",
   "name": "python",
   "nbconvert_exporter": "python",
   "pygments_lexer": "ipython3",
   "version": "3.10.8"
  }
 },
 "nbformat": 4,
 "nbformat_minor": 5
}
