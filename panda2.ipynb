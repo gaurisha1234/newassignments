{
 "cells": [
  {
   "cell_type": "code",
   "execution_count": 10,
   "id": "bb3ffb9a-e09f-4912-a78c-7fabedb8d8a8",
   "metadata": {},
   "outputs": [
    {
     "name": "stdout",
     "output_type": "stream",
     "text": [
      "{'name': ['abc', 'xyz', 'cde'], 'age': [12, 78, 90], 'id': [1, 4, 5]}\n",
      "  name  age  id\n",
      "0  abc   12   1\n",
      "1  xyz   78   4\n",
      "2  cde   90   5\n",
      "  name  age  id\n",
      "0  ghj   90   7\n",
      "1  jkl   89   8\n",
      "  name  age  id\n",
      "0  abc   12   1\n",
      "1  xyz   78   4\n",
      "2  cde   90   5\n",
      "3  ghj   90   7\n",
      "4  jkl   89   8\n",
      "  name_x  age_x  id_x name_y  age_y  id_y\n",
      "0    abc     12     1    ghj     90     7\n",
      "1    abc     12     1    jkl     89     8\n",
      "2    xyz     78     4    ghj     90     7\n",
      "3    xyz     78     4    jkl     89     8\n",
      "4    cde     90     5    ghj     90     7\n",
      "5    cde     90     5    jkl     89     8\n",
      "0    False\n",
      "1     True\n",
      "2     True\n",
      "Name: age, dtype: bool\n",
      "0    False\n",
      "1     True\n",
      "2     True\n",
      "Name: age, dtype: bool\n"
     ]
    }
   ],
   "source": [
    "#q1\n",
    "import pandas as pd\n",
    "a={\"name\":[\"abc\",\"xyz\",\"cde\"],\n",
    "   \"age\":[12,78,90],\n",
    "   \"id\":[1,4,5]\n",
    "  }\n",
    "print(a)\n",
    "b=pd.DataFrame(a)\n",
    "print(b)\n",
    "c={\"name\":[\"ghj\",\"jkl\"],\n",
    "   \"age\":[90,89],\n",
    "   \"id\":[7,8]\n",
    "  }\n",
    "h=pd.DataFrame(c)\n",
    "print(h)\n",
    "g=pd.concat([b, h], ignore_index=True)\n",
    "print(g)\n",
    "k=pd.merge(b,h,how=\"cross\")\n",
    "print(k)\n",
    "print(b['age']>18)\n",
    "print(b['age']>18)\n"
   ]
  },
  {
   "cell_type": "code",
   "execution_count": 11,
   "id": "37a4caf6-140d-497c-9db8-5bdfc436bd13",
   "metadata": {},
   "outputs": [
    {
     "name": "stdout",
     "output_type": "stream",
     "text": [
      "    A   B    C\n",
      "1  10  50   90\n",
      "3  20  60  100\n",
      "5  30  70  110\n",
      "7  40  80  120\n"
     ]
    }
   ],
   "source": [
    "#q2\n",
    "import pandas as pd\n",
    "\n",
    "def reindex_dataframe(df):\n",
    "    # Reset the index with a custom index that starts from 1 and increments by 2\n",
    "    new_index = range(1, len(df) * 2, 2)\n",
    "    df.reset_index(drop=True, inplace=True)\n",
    "    df.index = new_index\n",
    "\n",
    "    return df\n",
    "\n",
    "# Example DataFrame with columns 'A', 'B', and 'C'\n",
    "data = {\n",
    "    'A': [10, 20, 30, 40],\n",
    "    'B': [50, 60, 70, 80],\n",
    "    'C': [90, 100, 110, 120]\n",
    "}\n",
    "df = pd.DataFrame(data)\n",
    "\n",
    "# Re-indexing the DataFrame\n",
    "df_reindexed = reindex_dataframe(df)\n",
    "\n",
    "# Printing the re-indexed DataFrame\n",
    "print(df_reindexed)\n"
   ]
  },
  {
   "cell_type": "code",
   "execution_count": 18,
   "id": "cbd84663-b1ea-4215-8b8b-a6e8b0f57ed7",
   "metadata": {},
   "outputs": [
    {
     "name": "stdout",
     "output_type": "stream",
     "text": [
      "        text\n",
      "0        hii\n",
      "1  how are u\n",
      "2       fine\n",
      "        text  Word_Count\n",
      "0        hii           1\n",
      "1  how are u           3\n",
      "2       fine           1\n"
     ]
    }
   ],
   "source": [
    "#q4\n",
    "def count(text):\n",
    "    w=text.split()\n",
    "    return len(w)\n",
    "d={'text':[\"hii\",\"how are u\",\"fine\"]}\n",
    "data=pd.DataFrame(d)\n",
    "print(data)\n",
    "data['Word_Count'] = data['text'].apply(count)\n",
    "print(data)\n"
   ]
  },
  {
   "cell_type": "code",
   "execution_count": 19,
   "id": "95ddb805-1341-421b-9439-b2d039f6f207",
   "metadata": {},
   "outputs": [
    {
     "data": {
      "text/plain": [
       "'\\ndata frame size return the total no of elements in a data frame\\ndata frame represents the dimenshion of the data frame'"
      ]
     },
     "execution_count": 19,
     "metadata": {},
     "output_type": "execute_result"
    }
   ],
   "source": [
    "#q5\n",
    "\"\"\"\n",
    "data frame size return the total no of elements in a data frame\n",
    "data frame represents the dimenshion of the data frame\"\"\""
   ]
  },
  {
   "cell_type": "code",
   "execution_count": 21,
   "id": "7da35138-9ae7-4962-8351-34b61ba11f36",
   "metadata": {},
   "outputs": [
    {
     "data": {
      "text/plain": [
       "' we can read excel file by pd.read_excel(\"path of excel sheet\")\\n'"
      ]
     },
     "execution_count": 21,
     "metadata": {},
     "output_type": "execute_result"
    }
   ],
   "source": [
    "#q6\n",
    "\"\"\" we can read excel file by pd.read_excel(\"path of excel sheet\")\n",
    "\"\"\"\n"
   ]
  },
  {
   "cell_type": "code",
   "execution_count": 27,
   "id": "290dcbc6-df03-450a-a368-59ca5af9b2d3",
   "metadata": {},
   "outputs": [
    {
     "name": "stdout",
     "output_type": "stream",
     "text": [
      "                      email\n",
      "0    gaurisha3456@gmail.com\n",
      "1  gaurisha098123@gmail.com\n",
      "2            khjj@gmail.com\n",
      "                      email             new\n",
      "0    gaurisha3456@gmail.com    gaurisha3456\n",
      "1  gaurisha098123@gmail.com  gaurisha098123\n",
      "2            khjj@gmail.com            khjj\n"
     ]
    }
   ],
   "source": [
    "#q7\n",
    "def extract(email):\n",
    "    username=email.split('@')[0]\n",
    "    return username\n",
    "data={'email':[\"gaurisha3456@gmail.com\",\"gaurisha098123@gmail.com\",\"khjj@gmail.com\"]}\n",
    "d=pd.DataFrame(data)\n",
    "print(d)\n",
    "d['new']=d['email'].apply(extract)\n",
    "print(d)\n",
    "    "
   ]
  },
  {
   "cell_type": "code",
   "execution_count": 30,
   "id": "ff248d31-1952-4077-88b1-b05b55e23e11",
   "metadata": {},
   "outputs": [
    {
     "name": "stdout",
     "output_type": "stream",
     "text": [
      "    a  b   c\n",
      "3  78  6  67\n",
      "4  89  7   5\n"
     ]
    }
   ],
   "source": [
    "#q8\n",
    "def select(df):\n",
    "    row=df[(df['a']>5)& (df['b']<10)]\n",
    "    return row\n",
    "\n",
    "d={'a':[23,45,67,78,89],\n",
    "   'b':[56,89,56,6,7],\n",
    "   'c':[12,34,56,67,5]\n",
    "  }\n",
    "df=pd.DataFrame(d)\n",
    "select_1=select(df)\n",
    "print(select_1)"
   ]
  },
  {
   "cell_type": "code",
   "execution_count": 34,
   "id": "b6302464-5f23-49ed-823f-1d244bbd9cea",
   "metadata": {},
   "outputs": [
    {
     "name": "stdout",
     "output_type": "stream",
     "text": [
      "   values\n",
      "0      90\n",
      "1      67\n",
      "2      56\n",
      "3      12\n",
      "4      35\n",
      "5      34\n",
      "49.0\n",
      "45.5\n",
      "27.72724292099739\n"
     ]
    }
   ],
   "source": [
    "#q9\n",
    "data={\"values\":[90,67,56,12,35,34]\n",
    "     }\n",
    "df=pd.DataFrame(data)\n",
    "print(df)\n",
    "g=df[\"values\"].mean()\n",
    "print(g)\n",
    "k=df[\"values\"].median()\n",
    "j=df[\"values\"].std()\n",
    "print(k)\n",
    "print(j)"
   ]
  },
  {
   "cell_type": "code",
   "execution_count": 36,
   "id": "b69e19af-6b88-48a7-ba8f-688ace510043",
   "metadata": {},
   "outputs": [
    {
     "name": "stdout",
     "output_type": "stream",
     "text": [
      "        Date    Weekday\n",
      "0 2023-07-17     Monday\n",
      "1 2023-07-18    Tuesday\n",
      "2 2023-07-19  Wednesday\n",
      "3 2023-07-20   Thursday\n",
      "4 2023-07-21     Friday\n"
     ]
    }
   ],
   "source": [
    "#Q10\n",
    "import pandas as pd\n",
    "\n",
    "def add_weekday_column(df):\n",
    "    # Convert the 'Date' column to a datetime format (if not already)\n",
    "    df['Date'] = pd.to_datetime(df['Date'])\n",
    "\n",
    "    # Create a new column 'Weekday' containing the weekday name\n",
    "    df['Weekday'] = df['Date'].dt.day_name()\n",
    "\n",
    "    return df\n",
    "\n",
    "# Example DataFrame with a column 'Date'\n",
    "data = {\n",
    "    'Date': [\"2023-07-17\", \"2023-07-18\", \"2023-07-19\", \"2023-07-20\", \"2023-07-21\"]\n",
    "}\n",
    "df = pd.DataFrame(data)\n",
    "\n",
    "# Call the add_weekday_column function to add the 'Weekday' column\n",
    "df = add_weekday_column(df)\n",
    "\n",
    "# Printing the DataFrame with the new 'Weekday' column\n",
    "print(df)\n",
    "\n"
   ]
  },
  {
   "cell_type": "code",
   "execution_count": 37,
   "id": "a263956b-1698-4cf9-817e-52e56477b6f9",
   "metadata": {},
   "outputs": [
    {
     "ename": "KeyError",
     "evalue": "'start'",
     "output_type": "error",
     "traceback": [
      "\u001b[0;31m---------------------------------------------------------------------------\u001b[0m",
      "\u001b[0;31mKeyError\u001b[0m                                  Traceback (most recent call last)",
      "File \u001b[0;32m/opt/conda/lib/python3.10/site-packages/pandas/core/indexes/base.py:3803\u001b[0m, in \u001b[0;36mIndex.get_loc\u001b[0;34m(self, key, method, tolerance)\u001b[0m\n\u001b[1;32m   3802\u001b[0m \u001b[38;5;28;01mtry\u001b[39;00m:\n\u001b[0;32m-> 3803\u001b[0m     \u001b[38;5;28;01mreturn\u001b[39;00m \u001b[38;5;28;43mself\u001b[39;49m\u001b[38;5;241;43m.\u001b[39;49m\u001b[43m_engine\u001b[49m\u001b[38;5;241;43m.\u001b[39;49m\u001b[43mget_loc\u001b[49m\u001b[43m(\u001b[49m\u001b[43mcasted_key\u001b[49m\u001b[43m)\u001b[49m\n\u001b[1;32m   3804\u001b[0m \u001b[38;5;28;01mexcept\u001b[39;00m \u001b[38;5;167;01mKeyError\u001b[39;00m \u001b[38;5;28;01mas\u001b[39;00m err:\n",
      "File \u001b[0;32m/opt/conda/lib/python3.10/site-packages/pandas/_libs/index.pyx:138\u001b[0m, in \u001b[0;36mpandas._libs.index.IndexEngine.get_loc\u001b[0;34m()\u001b[0m\n",
      "File \u001b[0;32m/opt/conda/lib/python3.10/site-packages/pandas/_libs/index.pyx:165\u001b[0m, in \u001b[0;36mpandas._libs.index.IndexEngine.get_loc\u001b[0;34m()\u001b[0m\n",
      "File \u001b[0;32mpandas/_libs/hashtable_class_helper.pxi:5745\u001b[0m, in \u001b[0;36mpandas._libs.hashtable.PyObjectHashTable.get_item\u001b[0;34m()\u001b[0m\n",
      "File \u001b[0;32mpandas/_libs/hashtable_class_helper.pxi:5753\u001b[0m, in \u001b[0;36mpandas._libs.hashtable.PyObjectHashTable.get_item\u001b[0;34m()\u001b[0m\n",
      "\u001b[0;31mKeyError\u001b[0m: 'start'",
      "\nThe above exception was the direct cause of the following exception:\n",
      "\u001b[0;31mKeyError\u001b[0m                                  Traceback (most recent call last)",
      "Cell \u001b[0;32mIn[37], line 12\u001b[0m\n\u001b[1;32m     10\u001b[0m start \u001b[38;5;241m=\u001b[39m \u001b[38;5;124m'\u001b[39m\u001b[38;5;124m2023-01-01\u001b[39m\u001b[38;5;124m'\u001b[39m\n\u001b[1;32m     11\u001b[0m end \u001b[38;5;241m=\u001b[39m \u001b[38;5;124m'\u001b[39m\u001b[38;5;124m2023-01-31\u001b[39m\u001b[38;5;124m'\u001b[39m\n\u001b[0;32m---> 12\u001b[0m d\u001b[38;5;241m=\u001b[39m\u001b[43mselect\u001b[49m\u001b[43m(\u001b[49m\u001b[43mdf\u001b[49m\u001b[43m,\u001b[49m\u001b[43mstart\u001b[49m\u001b[43m,\u001b[49m\u001b[43mend\u001b[49m\u001b[43m)\u001b[49m\n\u001b[1;32m     13\u001b[0m \u001b[38;5;28mprint\u001b[39m(d)\n",
      "Cell \u001b[0;32mIn[37], line 5\u001b[0m, in \u001b[0;36mselect\u001b[0;34m(df, start, end)\u001b[0m\n\u001b[1;32m      3\u001b[0m \u001b[38;5;28;01mdef\u001b[39;00m \u001b[38;5;21mselect\u001b[39m(df,start,end):\n\u001b[1;32m      4\u001b[0m     df[\u001b[38;5;124m'\u001b[39m\u001b[38;5;124mdate\u001b[39m\u001b[38;5;124m'\u001b[39m]\u001b[38;5;241m=\u001b[39mpd\u001b[38;5;241m.\u001b[39mto_datetime(df[\u001b[38;5;124m'\u001b[39m\u001b[38;5;124mdate\u001b[39m\u001b[38;5;124m'\u001b[39m])\n\u001b[0;32m----> 5\u001b[0m     m\u001b[38;5;241m=\u001b[39m(\u001b[43mdf\u001b[49m\u001b[43m[\u001b[49m\u001b[38;5;124;43m'\u001b[39;49m\u001b[38;5;124;43mstart\u001b[39;49m\u001b[38;5;124;43m'\u001b[39;49m\u001b[43m]\u001b[49m\u001b[38;5;241m>\u001b[39m\u001b[38;5;241m=\u001b[39mstart) \u001b[38;5;241m&\u001b[39m (df[\u001b[38;5;124m'\u001b[39m\u001b[38;5;124mend\u001b[39m\u001b[38;5;124m'\u001b[39m]\u001b[38;5;241m>\u001b[39m\u001b[38;5;241m=\u001b[39mend)\n\u001b[1;32m      6\u001b[0m     row\u001b[38;5;241m=\u001b[39mdf[m]\n\u001b[1;32m      7\u001b[0m     \u001b[38;5;28;01mreturn\u001b[39;00m row\n",
      "File \u001b[0;32m/opt/conda/lib/python3.10/site-packages/pandas/core/frame.py:3805\u001b[0m, in \u001b[0;36mDataFrame.__getitem__\u001b[0;34m(self, key)\u001b[0m\n\u001b[1;32m   3803\u001b[0m \u001b[38;5;28;01mif\u001b[39;00m \u001b[38;5;28mself\u001b[39m\u001b[38;5;241m.\u001b[39mcolumns\u001b[38;5;241m.\u001b[39mnlevels \u001b[38;5;241m>\u001b[39m \u001b[38;5;241m1\u001b[39m:\n\u001b[1;32m   3804\u001b[0m     \u001b[38;5;28;01mreturn\u001b[39;00m \u001b[38;5;28mself\u001b[39m\u001b[38;5;241m.\u001b[39m_getitem_multilevel(key)\n\u001b[0;32m-> 3805\u001b[0m indexer \u001b[38;5;241m=\u001b[39m \u001b[38;5;28;43mself\u001b[39;49m\u001b[38;5;241;43m.\u001b[39;49m\u001b[43mcolumns\u001b[49m\u001b[38;5;241;43m.\u001b[39;49m\u001b[43mget_loc\u001b[49m\u001b[43m(\u001b[49m\u001b[43mkey\u001b[49m\u001b[43m)\u001b[49m\n\u001b[1;32m   3806\u001b[0m \u001b[38;5;28;01mif\u001b[39;00m is_integer(indexer):\n\u001b[1;32m   3807\u001b[0m     indexer \u001b[38;5;241m=\u001b[39m [indexer]\n",
      "File \u001b[0;32m/opt/conda/lib/python3.10/site-packages/pandas/core/indexes/base.py:3805\u001b[0m, in \u001b[0;36mIndex.get_loc\u001b[0;34m(self, key, method, tolerance)\u001b[0m\n\u001b[1;32m   3803\u001b[0m     \u001b[38;5;28;01mreturn\u001b[39;00m \u001b[38;5;28mself\u001b[39m\u001b[38;5;241m.\u001b[39m_engine\u001b[38;5;241m.\u001b[39mget_loc(casted_key)\n\u001b[1;32m   3804\u001b[0m \u001b[38;5;28;01mexcept\u001b[39;00m \u001b[38;5;167;01mKeyError\u001b[39;00m \u001b[38;5;28;01mas\u001b[39;00m err:\n\u001b[0;32m-> 3805\u001b[0m     \u001b[38;5;28;01mraise\u001b[39;00m \u001b[38;5;167;01mKeyError\u001b[39;00m(key) \u001b[38;5;28;01mfrom\u001b[39;00m \u001b[38;5;21;01merr\u001b[39;00m\n\u001b[1;32m   3806\u001b[0m \u001b[38;5;28;01mexcept\u001b[39;00m \u001b[38;5;167;01mTypeError\u001b[39;00m:\n\u001b[1;32m   3807\u001b[0m     \u001b[38;5;66;03m# If we have a listlike key, _check_indexing_error will raise\u001b[39;00m\n\u001b[1;32m   3808\u001b[0m     \u001b[38;5;66;03m#  InvalidIndexError. Otherwise we fall through and re-raise\u001b[39;00m\n\u001b[1;32m   3809\u001b[0m     \u001b[38;5;66;03m#  the TypeError.\u001b[39;00m\n\u001b[1;32m   3810\u001b[0m     \u001b[38;5;28mself\u001b[39m\u001b[38;5;241m.\u001b[39m_check_indexing_error(key)\n",
      "\u001b[0;31mKeyError\u001b[0m: 'start'"
     ]
    }
   ],
   "source": [
    "#q12\n",
    "\n",
    "def select(df,start,end):\n",
    "    df['date']=pd.to_datetime(df['date'])\n",
    "    m=(df['start']>=start) & (df['end']>=end)\n",
    "    row=df[m]\n",
    "    return row\n",
    "data={'date':[\"2023-01-12\",\"2021-09-3\",\"2020-12-2\",\"2019-9-7\",\"2018-11-4\"]}\n",
    "df=pd.DataFrame(data)\n",
    "start = '2023-01-01'\n",
    "end = '2023-01-31'\n",
    "d=select(df,start,end)\n",
    "print(d)"
   ]
  },
  {
   "cell_type": "code",
   "execution_count": 38,
   "id": "50d3415d-5d23-4b54-94f0-c7a2f3ccb7b2",
   "metadata": {},
   "outputs": [
    {
     "data": {
      "text/plain": [
       "' we need to first import pandas libaray to be imported'"
      ]
     },
     "execution_count": 38,
     "metadata": {},
     "output_type": "execute_result"
    }
   ],
   "source": [
    "#q14\n",
    "\"\"\" we need to first import pandas libaray to be imported\"\"\""
   ]
  },
  {
   "cell_type": "code",
   "execution_count": null,
   "id": "b07e9a77-8cf1-4f20-8cb7-82f3d5394325",
   "metadata": {},
   "outputs": [],
   "source": [
    "#q3\n",
    "def sum(df):\n",
    "    sum_3=0\n",
    "    for index, row in df.iterrows():\n",
    "        \n",
    "        sum_3 += row['values']\n",
    "\n",
    "        \n",
    "        if index == 2:\n",
    "            break\n",
    "    print(sum_3)        \n",
    "data={\"values\":[10,20,20,34,45,78]}\n",
    "df=pd.DataFrame(data)\n",
    "a=sum(df)\n",
    "print(a)"
   ]
  },
  {
   "cell_type": "code",
   "execution_count": null,
   "id": "47455d28-8c6e-4dbf-bb80-f7a8a4d07610",
   "metadata": {},
   "outputs": [],
   "source": []
  },
  {
   "cell_type": "code",
   "execution_count": null,
   "id": "c96ecbd5-2de8-4835-8cbb-d194e027aeb8",
   "metadata": {},
   "outputs": [],
   "source": []
  }
 ],
 "metadata": {
  "kernelspec": {
   "display_name": "Python 3 (ipykernel)",
   "language": "python",
   "name": "python3"
  },
  "language_info": {
   "codemirror_mode": {
    "name": "ipython",
    "version": 3
   },
   "file_extension": ".py",
   "mimetype": "text/x-python",
   "name": "python",
   "nbconvert_exporter": "python",
   "pygments_lexer": "ipython3",
   "version": "3.10.8"
  }
 },
 "nbformat": 4,
 "nbformat_minor": 5
}
