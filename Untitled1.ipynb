{
 "cells": [
  {
   "cell_type": "code",
   "execution_count": 1,
   "id": "1d978393-c418-4b19-828e-b67b56192092",
   "metadata": {},
   "outputs": [
    {
     "data": {
      "text/plain": [
       "'\\nopen method is use to open a file syntax\\nf=open(\"file name\",\"mode\")\\nmodes are\\na. r: use to read a file if file does not exist error will occur\\nb. w: use to write the content in a file it will delete the existing content if file does not exist it will create new file\\nc. a: use to write content at the end of file if file does not exist error will occur\\n'"
      ]
     },
     "execution_count": 1,
     "metadata": {},
     "output_type": "execute_result"
    }
   ],
   "source": [
    "#Q1\n",
    "\"\"\"\n",
    "open method is use to open a file syntax\n",
    "f=open(\"file name\",\"mode\")\n",
    "modes are\n",
    "a. r: use to read a file if file does not exist error will occur\n",
    "b. w: use to write the content in a file it will delete the existing content if file does not exist it will create new file\n",
    "c. a: use to write content at the end of file if file does not exist error will occur\n",
    "\"\"\""
   ]
  },
  {
   "cell_type": "code",
   "execution_count": 3,
   "id": "b49259f9-666c-43e1-86b0-316debfafc9c",
   "metadata": {},
   "outputs": [
    {
     "data": {
      "text/plain": [
       "' close function is use to close the existing file '"
      ]
     },
     "execution_count": 3,
     "metadata": {},
     "output_type": "execute_result"
    }
   ],
   "source": [
    "#Q2 \n",
    "\"\"\" close function is use to close the existing file \"\"\""
   ]
  },
  {
   "cell_type": "code",
   "execution_count": 4,
   "id": "14519956-136c-462f-ae59-1a940184f160",
   "metadata": {},
   "outputs": [
    {
     "name": "stdout",
     "output_type": "stream",
     "text": [
      " i want to become data scientist\n"
     ]
    }
   ],
   "source": [
    "#q3\n",
    "f= open(\"t1.txt\",\"w\")\n",
    "f.write(\" i want to become data scientist\")\n",
    "f.close()\n",
    "f=open(\"t1.txt\",\"r\")\n",
    "data=f.read()\n",
    "print(data)"
   ]
  },
  {
   "cell_type": "code",
   "execution_count": 5,
   "id": "356cf143-5e62-490c-bca2-f327b3d74e85",
   "metadata": {},
   "outputs": [
    {
     "data": {
      "text/plain": [
       "\"\\nThe with statement in Python is used in conjunction with the open() function to provide a cleaner and more reliable way of working with files. \\nThe advantage of using the with statement and open() \\ntogether is that it automatically takes care of closing the file when it's no longer needed, even if an exception occurs.\""
      ]
     },
     "execution_count": 5,
     "metadata": {},
     "output_type": "execute_result"
    }
   ],
   "source": [
    "#q5\n",
    "\"\"\"\n",
    "The with statement in Python is used in conjunction with the open() function to provide a cleaner and more reliable way of working with files. \n",
    "The advantage of using the with statement and open() \n",
    "together is that it automatically takes care of closing the file when it's no longer needed, even if an exception occurs.\"\"\"\n",
    "\n"
   ]
  },
  {
   "cell_type": "code",
   "execution_count": null,
   "id": "110f5453-f7e0-4cc2-b7f5-b5fc3eacc870",
   "metadata": {},
   "outputs": [],
   "source": [
    "#Q6\n",
    "\"\"\" write is used to write one line in a file while writelines is used to write multiple lines in a file \"\"\"\n",
    "\n",
    "file = open(\"t2.txt\", \"w\")\n",
    "\n",
    "\n",
    "file.write(\"Hello, world!\")\n",
    "\n",
    "\n",
    "file.close()\n",
    "\n",
    "\n",
    "file = open(\"example.txt\", \"w\")\n",
    "\n",
    "\n",
    "lines = [\"delhi\\n\", \"goa\\n\", \"kashmir\\n\"]\n",
    "file.writelines(lines)\n",
    "\n",
    "\n",
    "file.close()\n",
    "\n"
   ]
  }
 ],
 "metadata": {
  "kernelspec": {
   "display_name": "Python 3 (ipykernel)",
   "language": "python",
   "name": "python3"
  },
  "language_info": {
   "codemirror_mode": {
    "name": "ipython",
    "version": 3
   },
   "file_extension": ".py",
   "mimetype": "text/x-python",
   "name": "python",
   "nbconvert_exporter": "python",
   "pygments_lexer": "ipython3",
   "version": "3.10.8"
  }
 },
 "nbformat": 4,
 "nbformat_minor": 5
}
