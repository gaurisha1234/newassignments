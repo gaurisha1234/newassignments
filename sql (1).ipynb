{
 "cells": [
  {
   "cell_type": "code",
   "execution_count": 1,
   "id": "ccecfd05-3c26-4992-a395-fc644b066004",
   "metadata": {},
   "outputs": [
    {
     "data": {
      "text/plain": [
       "'\\ndatabase is use to store large amount of data in the form of row and columm \\nwe can easily fetch data from databases\\nSQL (Structured Query Language) and NoSQL (Not only SQL) are two different types of database management systems, each designed for \\ndifferent purposes and use cases.\\nHere are some key differences between SQL and NoSQL databases:\\n\\n\\n\\nSQL databases are based on the relational data model, where data is organized into tables with predefined s\\nchemas and relationships between tables are established using primary and foreign keys. This structure allows for complex queries and joins.\\nNoSQL databases use various data models such as key-value pairs, document-based (like JSON or XML), columnar,\\nor graph-based. They provide flexibility by allowing schema-less or dynamic schemas, making it easier to store and\\nretrieve unstructured or semi-structured data.\\n'"
      ]
     },
     "execution_count": 1,
     "metadata": {},
     "output_type": "execute_result"
    }
   ],
   "source": [
    "#q1\n",
    "\"\"\"\n",
    "database is use to store large amount of data in the form of row and columm \n",
    "we can easily fetch data from databases\n",
    "SQL (Structured Query Language) and NoSQL (Not only SQL) are two different types of database management systems, each designed for \n",
    "different purposes and use cases.\n",
    "Here are some key differences between SQL and NoSQL databases:\n",
    "\n",
    "\n",
    "\n",
    "SQL databases are based on the relational data model, where data is organized into tables with predefined s\n",
    "chemas and relationships between tables are established using primary and foreign keys. This structure allows for complex queries and joins.\n",
    "NoSQL databases use various data models such as key-value pairs, document-based (like JSON or XML), columnar,\n",
    "or graph-based. They provide flexibility by allowing schema-less or dynamic schemas, making it easier to store and\n",
    "retrieve unstructured or semi-structured data.\n",
    "\"\"\""
   ]
  },
  {
   "cell_type": "code",
   "execution_count": 2,
   "id": "e2a908e6-299b-4f7b-a489-2380a45dec37",
   "metadata": {},
   "outputs": [
    {
     "data": {
      "text/plain": [
       "'\\nddl is data defination language . it is use for definig the data inside the table\\ncreate,drop,alter,truncate are the commands use for defing the data in the table \\ncreate is use to create new table or database\\ndrop is use to delete  taable or database\\nalter is use to change the structure of the table\\ntruncate is use to delete the content of the table not the structure\\n'"
      ]
     },
     "execution_count": 2,
     "metadata": {},
     "output_type": "execute_result"
    }
   ],
   "source": [
    "#q2\n",
    "\"\"\"\n",
    "ddl is data defination language . it is use for definig the structure of the table\n",
    "create,drop,alter,truncate are the commands use for defing the data in the table \n",
    "create is use to create new table or database\n",
    "drop is use to delete  taable or database\n",
    "alter is use to change the structure of the table\n",
    "truncate is use to delete the content of the table not the structure\n",
    "\"\"\""
   ]
  },
  {
   "cell_type": "code",
   "execution_count": 3,
   "id": "fe802ada-d44d-4ebd-aec9-85109d146076",
   "metadata": {},
   "outputs": [
    {
     "data": {
      "text/plain": [
       "'\\ndml : data manipulation language use to manipulate the data inside the table \\ninsert: use to insert values in the table\\ndelete: to delete content inside the table\\n'"
      ]
     },
     "execution_count": 3,
     "metadata": {},
     "output_type": "execute_result"
    }
   ],
   "source": [
    "#q3\n",
    "\"\"\"\n",
    "dml : data manipulation language use to manipulate the data inside the table \n",
    "insert: use to insert values in the table\n",
    "delete: to delete content inside the table\n",
    "\"\"\""
   ]
  },
  {
   "cell_type": "code",
   "execution_count": 4,
   "id": "657f0492-00f5-4412-b721-029b15b42cc8",
   "metadata": {},
   "outputs": [
    {
     "data": {
      "text/plain": [
       "'\\ndql : data query langauage'"
      ]
     },
     "execution_count": 4,
     "metadata": {},
     "output_type": "execute_result"
    }
   ],
   "source": [
    "#q4\n",
    "\"\"\"\n",
    "dql : data query langauage\"\"\""
   ]
  },
  {
   "cell_type": "code",
   "execution_count": 5,
   "id": "7b2f07b1-8c72-4743-a9ec-436d83a069a5",
   "metadata": {},
   "outputs": [
    {
     "ename": "ModuleNotFoundError",
     "evalue": "No module named 'mysql'",
     "output_type": "error",
     "traceback": [
      "\u001b[0;31m---------------------------------------------------------------------------\u001b[0m",
      "\u001b[0;31mModuleNotFoundError\u001b[0m                       Traceback (most recent call last)",
      "Cell \u001b[0;32mIn[5], line 2\u001b[0m\n\u001b[1;32m      1\u001b[0m \u001b[38;5;66;03m#q6\u001b[39;00m\n\u001b[0;32m----> 2\u001b[0m \u001b[38;5;28;01mimport\u001b[39;00m \u001b[38;5;21;01mmysql\u001b[39;00m\u001b[38;5;21;01m.\u001b[39;00m\u001b[38;5;21;01mconnector\u001b[39;00m\n\u001b[1;32m      3\u001b[0m \u001b[38;5;66;03m# import mysql.connector\u001b[39;00m\n\u001b[1;32m      4\u001b[0m \u001b[38;5;66;03m#create user 'user'@'%' identified by 'password'\u001b[39;00m\n\u001b[1;32m      5\u001b[0m mydb \u001b[38;5;241m=\u001b[39m mysql\u001b[38;5;241m.\u001b[39mconnector\u001b[38;5;241m.\u001b[39mconnect(\n\u001b[1;32m      6\u001b[0m   host\u001b[38;5;241m=\u001b[39m\u001b[38;5;124m\"\u001b[39m\u001b[38;5;124mlocalhost\u001b[39m\u001b[38;5;124m\"\u001b[39m,\n\u001b[1;32m      7\u001b[0m   user\u001b[38;5;241m=\u001b[39m\u001b[38;5;124m\"\u001b[39m\u001b[38;5;124mabc\u001b[39m\u001b[38;5;124m\"\u001b[39m,\n\u001b[1;32m      8\u001b[0m   password\u001b[38;5;241m=\u001b[39m\u001b[38;5;124m\"\u001b[39m\u001b[38;5;124mpassword\u001b[39m\u001b[38;5;124m\"\u001b[39m\n\u001b[1;32m      9\u001b[0m )\n",
      "\u001b[0;31mModuleNotFoundError\u001b[0m: No module named 'mysql'"
     ]
    }
   ],
   "source": [
    "#q6\n",
    "import mysql.connector\n",
    "# import mysql.connector\n",
    "#create user 'user'@'%' identified by 'password'\n",
    "mydb = mysql.connector.connect(\n",
    "  host=\"localhost\",\n",
    "  user=\"abc\",\n",
    "  password=\"password\"\n",
    ")\n",
    "print(mydb)\n",
    "mycursor = mydb.cursor()"
   ]
  },
  {
   "cell_type": "code",
   "execution_count": null,
   "id": "7ff39193-b723-4c36-b604-25611d88ca1d",
   "metadata": {},
   "outputs": [],
   "source": [
    "#q7\n",
    "\"\"\"\n",
    "In SQL, the order of execution of clauses in a query is as follows:\n",
    "\n",
    "1. FROM: This clause specifies the table or tables from which the data will be retrieved. \n",
    "It defines the source of the data.\n",
    "\n",
    "2. JOIN: If there are any join operations specified in the query, they are executed after the FROM clause. \n",
    "Joins are used to combine data from multiple tables based on a related column or condition.\n",
    "\n",
    "3. WHERE: The WHERE clause is used to filter the rows based on specific conditions. It narrows down the result set by applying conditions \n",
    "to the columns.\n",
    "\n",
    "4. GROUP BY: If a GROUP BY clause is present in the query, it is executed after the WHERE clause. The GROUP BY clause groups the rows \n",
    "based on one or more columns and is often used in combination with aggregate functions like COUNT, SUM, AVG, etc.\n",
    "\n",
    "5. HAVING: The HAVING clause is used to filter the groups generated by the GROUP BY clause. It applies conditions to the grouped data.\n",
    "\n",
    "6. SELECT: The SELECT clause is executed after the previous clauses. It specifies the columns to be selected from the tables or views.\n",
    "\n",
    "7. DISTINCT: If the DISTINCT keyword is used in the SELECT clause, it is executed after the SELECT clause. It removes duplicate \n",
    "rows from the result set.\n",
    "\n",
    "8. ORDER BY: The ORDER BY clause is executed after the previous clauses. It is used to sort the result set based\n",
    "on one or more columns in ascending or descending order.\n",
    "\n",
    "9. LIMIT/OFFSET: If the query includes a LIMIT or OFFSET clause, it is executed after the ORDER BY clause. \n",
    "These clauses are used for pagination, limiting the number of rows returned, or skipping a certain number of rows.\n",
    "\n",
    "10. UNION: If multiple SELECT statements are combined using the UNION operator, the union operation\n",
    "is performed after all the individual SELECT statements have been executed. It combines the result sets of the individual queries into a single result set.\n",
    "\n",
    "\"\"\""
   ]
  }
 ],
 "metadata": {
  "kernelspec": {
   "display_name": "Python 3 (ipykernel)",
   "language": "python",
   "name": "python3"
  },
  "language_info": {
   "codemirror_mode": {
    "name": "ipython",
    "version": 3
   },
   "file_extension": ".py",
   "mimetype": "text/x-python",
   "name": "python",
   "nbconvert_exporter": "python",
   "pygments_lexer": "ipython3",
   "version": "3.10.8"
  }
 },
 "nbformat": 4,
 "nbformat_minor": 5
}
